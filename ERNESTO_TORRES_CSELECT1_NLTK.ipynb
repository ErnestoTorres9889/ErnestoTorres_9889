{
  "nbformat": 4,
  "nbformat_minor": 0,
  "metadata": {
    "colab": {
      "provenance": [],
      "authorship_tag": "ABX9TyPb3usS5NLGn2XvvnfFm0W0",
      "include_colab_link": true
    },
    "kernelspec": {
      "name": "python3",
      "display_name": "Python 3"
    },
    "language_info": {
      "name": "python"
    }
  },
  "cells": [
    {
      "cell_type": "markdown",
      "metadata": {
        "id": "view-in-github",
        "colab_type": "text"
      },
      "source": [
        "<a href=\"https://colab.research.google.com/github/ErnestoTorres9889/ErnestoTorres_9889/blob/main/ERNESTO_TORRES_CSELECT1_NLTK.ipynb\" target=\"_parent\"><img src=\"https://colab.research.google.com/assets/colab-badge.svg\" alt=\"Open In Colab\"/></a>"
      ]
    },
    {
      "cell_type": "code",
      "execution_count": null,
      "metadata": {
        "colab": {
          "base_uri": "https://localhost:8080/"
        },
        "id": "YUU8xHXaU9f4",
        "outputId": "5fc68c8b-29ac-4740-dbe8-eac91b4e64c5"
      },
      "outputs": [
        {
          "output_type": "stream",
          "name": "stderr",
          "text": [
            "[nltk_data] Downloading package vader_lexicon to /root/nltk_data...\n"
          ]
        }
      ],
      "source": [
        "\n",
        "import requests\n",
        "import re\n",
        "import io\n",
        "from nltk.sentiment.vader import SentimentIntensityAnalyzer\n",
        "import nltk\n",
        "\n",
        "nltk.download('vader_lexicon')\n",
        "\n",
        "sid = SentimentIntensityAnalyzer()\n",
        "\n",
        "def get_star_rating(sentiment_score):\n",
        "    if sentiment_score >= 0.6:\n",
        "        return 5\n",
        "    elif sentiment_score >= 0.3:\n",
        "        return 4\n",
        "    elif sentiment_score >= 0.1:\n",
        "        return 3\n",
        "    elif sentiment_score >= -0.1:\n",
        "        return 2\n",
        "    else:\n",
        "        return 1\n",
        "\n",
        "url = input(\"Enter the Amazon product URL: \")\n",
        "#https://www.amazon.com/Tekken-3-Pc/dp/B00000K2X5/ref=mp_s_a_1_26?dib=eyJ2IjoiMSJ9.prq4WN58bKbmY2w-e6aLsdp86HJnAkyhwhwsHBjSer2DVt7wx5-Jpuu0pdf0bnigTG-dmLrbPekodOd0UPxe8zg13ml8HiqmYN0mvYWm12YukyZYptr2DbYkQv-Jf_o74DsfZ7j0Vr8TiZIOyRSBfE53H6uh-t2ZLIv9PqX2C933i41sTPkhBenTtKVubveipMn26k165Xq-iHyBhgexYQ.XQBSCm8Fk_iH5mkPPVorV7_zVMIbF0T89rCgFYb6R5g&dib_tag=se&keywords=ps1+games&qid=1729775559&sr=8-26#aw-udpv3-customer-reviews_feature_div\n",
        "headers = {\n",
        "    'User-Agent': 'Mozilla/5.0 (Linux; Android 10; Mobile) AppleWebKit/537.36 (KHTML, like Gecko) Chrome/91.0.4472.120 Mobile Safari/537.36',\n",
        "}\n",
        "\n",
        "response = requests.get(url, headers=headers)\n",
        "\n",
        "if response.status_code == 200:\n",
        "    html_content = io.StringIO(response.text)\n",
        "\n",
        "    review_div_pattern = re.compile(r'<span class=\"review-text\">(.*?)</span>', re.DOTALL)\n",
        "\n",
        "    reviews = re.findall(review_div_pattern, html_content.getvalue())\n",
        "\n",
        "    if reviews:\n",
        "        for review in reviews:\n",
        "            comment = re.sub(r'\\\\u[0-9A-Fa-f]{4}', '', review).strip()\n",
        "\n",
        "            sentiment_scores = sid.polarity_scores(comment)\n",
        "            sentiment_score = sentiment_scores['compound']\n",
        "\n",
        "            rating = get_star_rating(sentiment_score)\n",
        "\n",
        "            print(f\"Comment: {comment}\")\n",
        "            print(f\"Sentiment Score: {sentiment_score}\")\n",
        "            print(f\"Star Rating: {rating}/5\\n\")\n",
        "    else:\n",
        "        print(\"No reviews found using the regex.\")\n",
        "else:\n",
        "    print(f\"Failed to retrieve the page. Status code: {response.status_code}\")"
      ]
    }
  ]
}